{
 "cells": [
  {
   "cell_type": "markdown",
   "metadata": {},
   "source": [
    "1."
   ]
  },
  {
   "cell_type": "code",
   "execution_count": 9,
   "metadata": {},
   "outputs": [
    {
     "name": "stdout",
     "output_type": "stream",
     "text": [
      "answer from myreduce: 21\n",
      "answer from reduce: 21\n"
     ]
    }
   ],
   "source": [
    "items=[1,2,3,4,5,6]\n",
    "def myreduce(func,items):\n",
    "    res=items[0]\n",
    "    for i in items[1:]:\n",
    "        res=func(res,i)\n",
    "    return res\n",
    "\n",
    "def func(x,y):\n",
    "    return x+y\n",
    "\n",
    "ans=myreduce(func,items)\n",
    "print('answer from myreduce:',ans)\n",
    "\n",
    "import functools\n",
    "ans2=functools.reduce(func,items)\n",
    "print('answer from reduce:',ans2)"
   ]
  },
  {
   "cell_type": "markdown",
   "metadata": {},
   "source": [
    "2."
   ]
  },
  {
   "cell_type": "code",
   "execution_count": 14,
   "metadata": {},
   "outputs": [
    {
     "name": "stdout",
     "output_type": "stream",
     "text": [
      "[3, 4, 5, 6]\n"
     ]
    }
   ],
   "source": [
    "items=[1,2,3,4,5,6]\n",
    "def myfilter(func,items):\n",
    "    res=[]\n",
    "    for i in items:\n",
    "        if func(i)==True:\n",
    "            res.append(i)\n",
    "    return res\n",
    "\n",
    "def func(x):\n",
    "    if(x>2):\n",
    "        return True \n",
    "    else: return False\n",
    "\n",
    "ans=myfilter(func,items)\n",
    "print(ans)"
   ]
  },
  {
   "cell_type": "markdown",
   "metadata": {},
   "source": [
    "3."
   ]
  },
  {
   "cell_type": "code",
   "execution_count": 28,
   "metadata": {},
   "outputs": [
    {
     "name": "stdout",
     "output_type": "stream",
     "text": [
      "['x', 'xx', 'xxx', 'xxxx', 'y', 'yy', 'yyy', 'yyyy', 'z', 'zz', 'zzz', 'zzzz']\n",
      "['x', 'y', 'z', 'xx', 'yy', 'zz', 'xxx', 'yyy', 'zzz', 'xxxx', 'yyyy', 'zzzz']\n",
      "[[2], [3], [4], [3], [4], [5], [4], [5], [6]]\n",
      "[[2, 3, 4, 5], [3, 4, 5, 6], [4, 5, 6, 7], [5, 6, 7, 8]]\n",
      "[(1, 1), (1, 2), (1, 3), (2, 1), (2, 2), (2, 3), (3, 1), (3, 2), (3, 3)]\n"
     ]
    }
   ],
   "source": [
    "ans1=[letter*num for letter in 'xyz' for num in range(1,5)]\n",
    "print(ans1)\n",
    "ans2=[letter*num for num in range(1,5) for letter in 'xyz']\n",
    "print(ans2)\n",
    "ans3=[[j] for i in range(1,4) for j in range(i+1,i+4)]\n",
    "print(ans3)\n",
    "ans4=[[i+j for i in [2,3,4,5]] for j in range(0,4)]\n",
    "print(ans4)\n",
    "ans5=[(i,j) for i in range(1,4) for j in range(1,4)]\n",
    "print(ans5)"
   ]
  },
  {
   "cell_type": "code",
   "execution_count": null,
   "metadata": {},
   "outputs": [],
   "source": []
  }
 ],
 "metadata": {
  "kernelspec": {
   "display_name": "Python 3",
   "language": "python",
   "name": "python3"
  },
  "language_info": {
   "codemirror_mode": {
    "name": "ipython",
    "version": 3
   },
   "file_extension": ".py",
   "mimetype": "text/x-python",
   "name": "python",
   "nbconvert_exporter": "python",
   "pygments_lexer": "ipython3",
   "version": "3.7.4"
  }
 },
 "nbformat": 4,
 "nbformat_minor": 2
}
